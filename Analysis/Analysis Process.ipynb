{
 "cells": [
  {
   "cell_type": "code",
   "execution_count": 73,
   "id": "cca4755d",
   "metadata": {},
   "outputs": [],
   "source": [
    "import pandas as pd \n",
    "import matplotlib.pylab as plt"
   ]
  },
  {
   "cell_type": "code",
   "execution_count": 74,
   "id": "bfbd6d87",
   "metadata": {},
   "outputs": [
    {
     "name": "stderr",
     "output_type": "stream",
     "text": [
      "C:\\Users\\Tsilo\\anaconda3\\lib\\site-packages\\IPython\\core\\interactiveshell.py:3444: DtypeWarning: Columns (18,19,20,21,22,23) have mixed types.Specify dtype option on import or set low_memory=False.\n",
      "  exec(code_obj, self.user_global_ns, self.user_ns)\n"
     ]
    }
   ],
   "source": [
    "data_sp = pd.read_csv('cleandata.csv')"
   ]
  },
  {
   "cell_type": "code",
   "execution_count": 75,
   "id": "d595e91b",
   "metadata": {},
   "outputs": [
    {
     "data": {
      "text/html": [
       "<div>\n",
       "<style scoped>\n",
       "    .dataframe tbody tr th:only-of-type {\n",
       "        vertical-align: middle;\n",
       "    }\n",
       "\n",
       "    .dataframe tbody tr th {\n",
       "        vertical-align: top;\n",
       "    }\n",
       "\n",
       "    .dataframe thead th {\n",
       "        text-align: right;\n",
       "    }\n",
       "</style>\n",
       "<table border=\"1\" class=\"dataframe\">\n",
       "  <thead>\n",
       "    <tr style=\"text-align: right;\">\n",
       "      <th></th>\n",
       "      <th>Unnamed: 0</th>\n",
       "      <th>PTASDG</th>\n",
       "      <th>len6</th>\n",
       "      <th>Ranking</th>\n",
       "      <th>Track</th>\n",
       "      <th>Artist</th>\n",
       "      <th>Streams</th>\n",
       "      <th>Date</th>\n",
       "      <th>Genre</th>\n",
       "      <th>Genre 1</th>\n",
       "      <th>...</th>\n",
       "      <th>Genre 7</th>\n",
       "      <th>Genre 8</th>\n",
       "      <th>Genre 9</th>\n",
       "      <th>Genre 10</th>\n",
       "      <th>Genre 11</th>\n",
       "      <th>Genre 12</th>\n",
       "      <th>Genre 13</th>\n",
       "      <th>Genre 14</th>\n",
       "      <th>Genre 15</th>\n",
       "      <th>AllGenres</th>\n",
       "    </tr>\n",
       "  </thead>\n",
       "  <tbody>\n",
       "    <tr>\n",
       "      <th>0</th>\n",
       "      <td>0</td>\n",
       "      <td>['1', 'Starboy', 'The Weeknd', '3135625', '201...</td>\n",
       "      <td>6</td>\n",
       "      <td>1</td>\n",
       "      <td>Starboy</td>\n",
       "      <td>The Weeknd</td>\n",
       "      <td>3135625</td>\n",
       "      <td>2017-01-01</td>\n",
       "      <td>canadian pop</td>\n",
       "      <td>canadian contemporary r&amp;b</td>\n",
       "      <td>...</td>\n",
       "      <td>NaN</td>\n",
       "      <td>NaN</td>\n",
       "      <td>NaN</td>\n",
       "      <td>NaN</td>\n",
       "      <td>NaN</td>\n",
       "      <td>NaN</td>\n",
       "      <td>NaN</td>\n",
       "      <td>NaN</td>\n",
       "      <td>NaN</td>\n",
       "      <td>['canadian pop', ' canadian contemporary r&amp;b',...</td>\n",
       "    </tr>\n",
       "    <tr>\n",
       "      <th>1</th>\n",
       "      <td>1</td>\n",
       "      <td>['2', 'Closer', 'The Chainsmokers', '3015525',...</td>\n",
       "      <td>6</td>\n",
       "      <td>2</td>\n",
       "      <td>Closer</td>\n",
       "      <td>The Chainsmokers</td>\n",
       "      <td>3015525</td>\n",
       "      <td>2017-01-01</td>\n",
       "      <td>pop</td>\n",
       "      <td>pop dance</td>\n",
       "      <td>...</td>\n",
       "      <td>NaN</td>\n",
       "      <td>NaN</td>\n",
       "      <td>NaN</td>\n",
       "      <td>NaN</td>\n",
       "      <td>NaN</td>\n",
       "      <td>NaN</td>\n",
       "      <td>NaN</td>\n",
       "      <td>NaN</td>\n",
       "      <td>NaN</td>\n",
       "      <td>['pop', ' pop dance', ' tropical house', ' edm...</td>\n",
       "    </tr>\n",
       "    <tr>\n",
       "      <th>2</th>\n",
       "      <td>2</td>\n",
       "      <td>['3', 'Let Me Love You', 'DJ Snake', '2545384'...</td>\n",
       "      <td>6</td>\n",
       "      <td>3</td>\n",
       "      <td>Let Me Love You</td>\n",
       "      <td>DJ Snake</td>\n",
       "      <td>2545384</td>\n",
       "      <td>2017-01-01</td>\n",
       "      <td>pop</td>\n",
       "      <td>electronic trap</td>\n",
       "      <td>...</td>\n",
       "      <td>NaN</td>\n",
       "      <td>NaN</td>\n",
       "      <td>NaN</td>\n",
       "      <td>NaN</td>\n",
       "      <td>NaN</td>\n",
       "      <td>NaN</td>\n",
       "      <td>NaN</td>\n",
       "      <td>NaN</td>\n",
       "      <td>NaN</td>\n",
       "      <td>['pop', ' electronic trap', ' dance pop', ' ed...</td>\n",
       "    </tr>\n",
       "    <tr>\n",
       "      <th>3</th>\n",
       "      <td>3</td>\n",
       "      <td>['4', 'Rockabye (feat. Sean Paul &amp; Anne-Marie)...</td>\n",
       "      <td>6</td>\n",
       "      <td>4</td>\n",
       "      <td>Rockabye (feat. Sean Paul &amp; Anne-Marie)</td>\n",
       "      <td>Clean Bandit</td>\n",
       "      <td>2356604</td>\n",
       "      <td>2017-01-01</td>\n",
       "      <td>pop</td>\n",
       "      <td>uk dance</td>\n",
       "      <td>...</td>\n",
       "      <td>edm</td>\n",
       "      <td>NaN</td>\n",
       "      <td>NaN</td>\n",
       "      <td>NaN</td>\n",
       "      <td>NaN</td>\n",
       "      <td>NaN</td>\n",
       "      <td>NaN</td>\n",
       "      <td>NaN</td>\n",
       "      <td>NaN</td>\n",
       "      <td>['pop', ' uk dance', ' dance pop', ' uk funky'...</td>\n",
       "    </tr>\n",
       "    <tr>\n",
       "      <th>4</th>\n",
       "      <td>4</td>\n",
       "      <td>['5', 'One Dance', 'Drake', '2259887', '2017-0...</td>\n",
       "      <td>6</td>\n",
       "      <td>5</td>\n",
       "      <td>One Dance</td>\n",
       "      <td>Drake</td>\n",
       "      <td>2259887</td>\n",
       "      <td>2017-01-01</td>\n",
       "      <td>toronto rap</td>\n",
       "      <td>canadian pop</td>\n",
       "      <td>...</td>\n",
       "      <td>NaN</td>\n",
       "      <td>NaN</td>\n",
       "      <td>NaN</td>\n",
       "      <td>NaN</td>\n",
       "      <td>NaN</td>\n",
       "      <td>NaN</td>\n",
       "      <td>NaN</td>\n",
       "      <td>NaN</td>\n",
       "      <td>NaN</td>\n",
       "      <td>['toronto rap', ' canadian pop', ' canadian hi...</td>\n",
       "    </tr>\n",
       "    <tr>\n",
       "      <th>...</th>\n",
       "      <td>...</td>\n",
       "      <td>...</td>\n",
       "      <td>...</td>\n",
       "      <td>...</td>\n",
       "      <td>...</td>\n",
       "      <td>...</td>\n",
       "      <td>...</td>\n",
       "      <td>...</td>\n",
       "      <td>...</td>\n",
       "      <td>...</td>\n",
       "      <td>...</td>\n",
       "      <td>...</td>\n",
       "      <td>...</td>\n",
       "      <td>...</td>\n",
       "      <td>...</td>\n",
       "      <td>...</td>\n",
       "      <td>...</td>\n",
       "      <td>...</td>\n",
       "      <td>...</td>\n",
       "      <td>...</td>\n",
       "      <td>...</td>\n",
       "    </tr>\n",
       "    <tr>\n",
       "      <th>320635</th>\n",
       "      <td>321195</td>\n",
       "      <td>['196', 'Best Friend (feat. Doja Cat)', 'Sawee...</td>\n",
       "      <td>6</td>\n",
       "      <td>196</td>\n",
       "      <td>Best Friend (feat. Doja Cat)</td>\n",
       "      <td>Saweetie</td>\n",
       "      <td>790257</td>\n",
       "      <td>2021-07-17</td>\n",
       "      <td>trap queen</td>\n",
       "      <td>pop</td>\n",
       "      <td>...</td>\n",
       "      <td>NaN</td>\n",
       "      <td>NaN</td>\n",
       "      <td>NaN</td>\n",
       "      <td>NaN</td>\n",
       "      <td>NaN</td>\n",
       "      <td>NaN</td>\n",
       "      <td>NaN</td>\n",
       "      <td>NaN</td>\n",
       "      <td>NaN</td>\n",
       "      <td>['trap queen', ' pop', ' pop rap', ' cali rap'...</td>\n",
       "    </tr>\n",
       "    <tr>\n",
       "      <th>320636</th>\n",
       "      <td>321196</td>\n",
       "      <td>['197', 'Wonderwall - Remastered', 'Oasis', '7...</td>\n",
       "      <td>6</td>\n",
       "      <td>197</td>\n",
       "      <td>Wonderwall - Remastered</td>\n",
       "      <td>Oasis</td>\n",
       "      <td>789099</td>\n",
       "      <td>2021-07-17</td>\n",
       "      <td>madchester</td>\n",
       "      <td>permanent wave</td>\n",
       "      <td>...</td>\n",
       "      <td>NaN</td>\n",
       "      <td>NaN</td>\n",
       "      <td>NaN</td>\n",
       "      <td>NaN</td>\n",
       "      <td>NaN</td>\n",
       "      <td>NaN</td>\n",
       "      <td>NaN</td>\n",
       "      <td>NaN</td>\n",
       "      <td>NaN</td>\n",
       "      <td>['madchester', ' permanent wave', ' beatlesque...</td>\n",
       "    </tr>\n",
       "    <tr>\n",
       "      <th>320637</th>\n",
       "      <td>321197</td>\n",
       "      <td>['198', 'MI FAI IMPAZZIRE', 'BLANCO', '788966'...</td>\n",
       "      <td>6</td>\n",
       "      <td>198</td>\n",
       "      <td>MI FAI IMPAZZIRE</td>\n",
       "      <td>BLANCO</td>\n",
       "      <td>788966</td>\n",
       "      <td>2021-07-17</td>\n",
       "      <td>italian pop</td>\n",
       "      <td>italian hip hop</td>\n",
       "      <td>...</td>\n",
       "      <td>NaN</td>\n",
       "      <td>NaN</td>\n",
       "      <td>NaN</td>\n",
       "      <td>NaN</td>\n",
       "      <td>NaN</td>\n",
       "      <td>NaN</td>\n",
       "      <td>NaN</td>\n",
       "      <td>NaN</td>\n",
       "      <td>NaN</td>\n",
       "      <td>['italian pop', ' italian hip hop']</td>\n",
       "    </tr>\n",
       "    <tr>\n",
       "      <th>320638</th>\n",
       "      <td>321198</td>\n",
       "      <td>['199', 'Adore You', 'Harry Styles', '788033',...</td>\n",
       "      <td>6</td>\n",
       "      <td>199</td>\n",
       "      <td>Adore You</td>\n",
       "      <td>Harry Styles</td>\n",
       "      <td>788033</td>\n",
       "      <td>2021-07-17</td>\n",
       "      <td>pop</td>\n",
       "      <td>post-teen pop</td>\n",
       "      <td>...</td>\n",
       "      <td>NaN</td>\n",
       "      <td>NaN</td>\n",
       "      <td>NaN</td>\n",
       "      <td>NaN</td>\n",
       "      <td>NaN</td>\n",
       "      <td>NaN</td>\n",
       "      <td>NaN</td>\n",
       "      <td>NaN</td>\n",
       "      <td>NaN</td>\n",
       "      <td>['pop', ' post-teen pop']</td>\n",
       "    </tr>\n",
       "    <tr>\n",
       "      <th>320639</th>\n",
       "      <td>321199</td>\n",
       "      <td>['200', 'Follow You', 'Imagine Dragons', '7854...</td>\n",
       "      <td>6</td>\n",
       "      <td>200</td>\n",
       "      <td>Follow You</td>\n",
       "      <td>Imagine Dragons</td>\n",
       "      <td>785417</td>\n",
       "      <td>2021-07-17</td>\n",
       "      <td>modern rock</td>\n",
       "      <td>pop</td>\n",
       "      <td>...</td>\n",
       "      <td>NaN</td>\n",
       "      <td>NaN</td>\n",
       "      <td>NaN</td>\n",
       "      <td>NaN</td>\n",
       "      <td>NaN</td>\n",
       "      <td>NaN</td>\n",
       "      <td>NaN</td>\n",
       "      <td>NaN</td>\n",
       "      <td>NaN</td>\n",
       "      <td>['modern rock', ' pop', ' rock']</td>\n",
       "    </tr>\n",
       "  </tbody>\n",
       "</table>\n",
       "<p>320640 rows × 25 columns</p>\n",
       "</div>"
      ],
      "text/plain": [
       "        Unnamed: 0                                             PTASDG  len6  \\\n",
       "0                0  ['1', 'Starboy', 'The Weeknd', '3135625', '201...     6   \n",
       "1                1  ['2', 'Closer', 'The Chainsmokers', '3015525',...     6   \n",
       "2                2  ['3', 'Let Me Love You', 'DJ Snake', '2545384'...     6   \n",
       "3                3  ['4', 'Rockabye (feat. Sean Paul & Anne-Marie)...     6   \n",
       "4                4  ['5', 'One Dance', 'Drake', '2259887', '2017-0...     6   \n",
       "...            ...                                                ...   ...   \n",
       "320635      321195  ['196', 'Best Friend (feat. Doja Cat)', 'Sawee...     6   \n",
       "320636      321196  ['197', 'Wonderwall - Remastered', 'Oasis', '7...     6   \n",
       "320637      321197  ['198', 'MI FAI IMPAZZIRE', 'BLANCO', '788966'...     6   \n",
       "320638      321198  ['199', 'Adore You', 'Harry Styles', '788033',...     6   \n",
       "320639      321199  ['200', 'Follow You', 'Imagine Dragons', '7854...     6   \n",
       "\n",
       "        Ranking                                    Track            Artist  \\\n",
       "0             1                                  Starboy        The Weeknd   \n",
       "1             2                                   Closer  The Chainsmokers   \n",
       "2             3                          Let Me Love You          DJ Snake   \n",
       "3             4  Rockabye (feat. Sean Paul & Anne-Marie)      Clean Bandit   \n",
       "4             5                                One Dance             Drake   \n",
       "...         ...                                      ...               ...   \n",
       "320635      196             Best Friend (feat. Doja Cat)          Saweetie   \n",
       "320636      197                  Wonderwall - Remastered             Oasis   \n",
       "320637      198                         MI FAI IMPAZZIRE            BLANCO   \n",
       "320638      199                                Adore You      Harry Styles   \n",
       "320639      200                               Follow You   Imagine Dragons   \n",
       "\n",
       "        Streams        Date         Genre                     Genre 1  ...  \\\n",
       "0       3135625  2017-01-01  canadian pop   canadian contemporary r&b  ...   \n",
       "1       3015525  2017-01-01           pop                   pop dance  ...   \n",
       "2       2545384  2017-01-01           pop             electronic trap  ...   \n",
       "3       2356604  2017-01-01           pop                    uk dance  ...   \n",
       "4       2259887  2017-01-01   toronto rap                canadian pop  ...   \n",
       "...         ...         ...           ...                         ...  ...   \n",
       "320635   790257  2021-07-17    trap queen                         pop  ...   \n",
       "320636   789099  2021-07-17    madchester              permanent wave  ...   \n",
       "320637   788966  2021-07-17   italian pop             italian hip hop  ...   \n",
       "320638   788033  2021-07-17           pop               post-teen pop  ...   \n",
       "320639   785417  2021-07-17   modern rock                         pop  ...   \n",
       "\n",
       "       Genre 7 Genre 8 Genre 9 Genre 10 Genre 11 Genre 12 Genre 13 Genre 14  \\\n",
       "0          NaN     NaN     NaN      NaN      NaN      NaN      NaN      NaN   \n",
       "1          NaN     NaN     NaN      NaN      NaN      NaN      NaN      NaN   \n",
       "2          NaN     NaN     NaN      NaN      NaN      NaN      NaN      NaN   \n",
       "3          edm     NaN     NaN      NaN      NaN      NaN      NaN      NaN   \n",
       "4          NaN     NaN     NaN      NaN      NaN      NaN      NaN      NaN   \n",
       "...        ...     ...     ...      ...      ...      ...      ...      ...   \n",
       "320635     NaN     NaN     NaN      NaN      NaN      NaN      NaN      NaN   \n",
       "320636     NaN     NaN     NaN      NaN      NaN      NaN      NaN      NaN   \n",
       "320637     NaN     NaN     NaN      NaN      NaN      NaN      NaN      NaN   \n",
       "320638     NaN     NaN     NaN      NaN      NaN      NaN      NaN      NaN   \n",
       "320639     NaN     NaN     NaN      NaN      NaN      NaN      NaN      NaN   \n",
       "\n",
       "       Genre 15                                          AllGenres  \n",
       "0           NaN  ['canadian pop', ' canadian contemporary r&b',...  \n",
       "1           NaN  ['pop', ' pop dance', ' tropical house', ' edm...  \n",
       "2           NaN  ['pop', ' electronic trap', ' dance pop', ' ed...  \n",
       "3           NaN  ['pop', ' uk dance', ' dance pop', ' uk funky'...  \n",
       "4           NaN  ['toronto rap', ' canadian pop', ' canadian hi...  \n",
       "...         ...                                                ...  \n",
       "320635      NaN  ['trap queen', ' pop', ' pop rap', ' cali rap'...  \n",
       "320636      NaN  ['madchester', ' permanent wave', ' beatlesque...  \n",
       "320637      NaN                ['italian pop', ' italian hip hop']  \n",
       "320638      NaN                          ['pop', ' post-teen pop']  \n",
       "320639      NaN                   ['modern rock', ' pop', ' rock']  \n",
       "\n",
       "[320640 rows x 25 columns]"
      ]
     },
     "execution_count": 75,
     "metadata": {},
     "output_type": "execute_result"
    }
   ],
   "source": [
    "data_sp"
   ]
  },
  {
   "cell_type": "code",
   "execution_count": 76,
   "id": "d890be99",
   "metadata": {},
   "outputs": [
    {
     "name": "stdout",
     "output_type": "stream",
     "text": [
      "<class 'pandas.core.frame.DataFrame'>\n",
      "RangeIndex: 320640 entries, 0 to 320639\n",
      "Data columns (total 25 columns):\n",
      " #   Column      Non-Null Count   Dtype \n",
      "---  ------      --------------   ----- \n",
      " 0   Unnamed: 0  320640 non-null  int64 \n",
      " 1   PTASDG      320640 non-null  object\n",
      " 2   len6        320640 non-null  int64 \n",
      " 3   Ranking     320640 non-null  int64 \n",
      " 4   Track       320622 non-null  object\n",
      " 5   Artist      320622 non-null  object\n",
      " 6   Streams     320640 non-null  int64 \n",
      " 7   Date        320640 non-null  object\n",
      " 8   Genre       320622 non-null  object\n",
      " 9   Genre 1     293382 non-null  object\n",
      " 10  Genre 2     230722 non-null  object\n",
      " 11  Genre 3     164192 non-null  object\n",
      " 12  Genre 4     96848 non-null   object\n",
      " 13  Genre 5     59558 non-null   object\n",
      " 14  Genre 6     28328 non-null   object\n",
      " 15  Genre 7     17954 non-null   object\n",
      " 16  Genre 8     7207 non-null    object\n",
      " 17  Genre 9     3829 non-null    object\n",
      " 18  Genre 10    36 non-null      object\n",
      " 19  Genre 11    5 non-null       object\n",
      " 20  Genre 12    5 non-null       object\n",
      " 21  Genre 13    5 non-null       object\n",
      " 22  Genre 14    2 non-null       object\n",
      " 23  Genre 15    2 non-null       object\n",
      " 24  AllGenres   320640 non-null  object\n",
      "dtypes: int64(4), object(21)\n",
      "memory usage: 61.2+ MB\n"
     ]
    }
   ],
   "source": [
    "data_sp.info()"
   ]
  },
  {
   "cell_type": "code",
   "execution_count": 77,
   "id": "1f415cee",
   "metadata": {},
   "outputs": [],
   "source": [
    "data_sp = data_sp.drop(columns=['Unnamed: 0','PTASDG','len6'])"
   ]
  },
  {
   "cell_type": "code",
   "execution_count": 78,
   "id": "a0c66dce",
   "metadata": {},
   "outputs": [],
   "source": [
    "data_sp['Year'] = pd.to_datetime(data_sp['Date']).dt.year"
   ]
  },
  {
   "cell_type": "code",
   "execution_count": 79,
   "id": "c8855a46",
   "metadata": {},
   "outputs": [],
   "source": [
    "data_sp['Month'] = pd.to_datetime(data_sp['Date']).dt.month"
   ]
  },
  {
   "cell_type": "code",
   "execution_count": 80,
   "id": "17975e32",
   "metadata": {},
   "outputs": [],
   "source": [
    "data_sp['Day'] = pd.to_datetime(data_sp['Date']).dt.day"
   ]
  },
  {
   "cell_type": "code",
   "execution_count": 81,
   "id": "6a4cec07",
   "metadata": {},
   "outputs": [
    {
     "data": {
      "text/html": [
       "<div>\n",
       "<style scoped>\n",
       "    .dataframe tbody tr th:only-of-type {\n",
       "        vertical-align: middle;\n",
       "    }\n",
       "\n",
       "    .dataframe tbody tr th {\n",
       "        vertical-align: top;\n",
       "    }\n",
       "\n",
       "    .dataframe thead th {\n",
       "        text-align: right;\n",
       "    }\n",
       "</style>\n",
       "<table border=\"1\" class=\"dataframe\">\n",
       "  <thead>\n",
       "    <tr style=\"text-align: right;\">\n",
       "      <th></th>\n",
       "      <th>Ranking</th>\n",
       "      <th>Track</th>\n",
       "      <th>Artist</th>\n",
       "      <th>Streams</th>\n",
       "      <th>Date</th>\n",
       "      <th>Genre</th>\n",
       "      <th>Genre 1</th>\n",
       "      <th>Genre 2</th>\n",
       "      <th>Genre 3</th>\n",
       "      <th>Genre 4</th>\n",
       "      <th>...</th>\n",
       "      <th>Genre 10</th>\n",
       "      <th>Genre 11</th>\n",
       "      <th>Genre 12</th>\n",
       "      <th>Genre 13</th>\n",
       "      <th>Genre 14</th>\n",
       "      <th>Genre 15</th>\n",
       "      <th>AllGenres</th>\n",
       "      <th>Year</th>\n",
       "      <th>Month</th>\n",
       "      <th>Day</th>\n",
       "    </tr>\n",
       "  </thead>\n",
       "  <tbody>\n",
       "    <tr>\n",
       "      <th>0</th>\n",
       "      <td>1</td>\n",
       "      <td>Starboy</td>\n",
       "      <td>The Weeknd</td>\n",
       "      <td>3135625</td>\n",
       "      <td>2017-01-01</td>\n",
       "      <td>canadian pop</td>\n",
       "      <td>canadian contemporary r&amp;b</td>\n",
       "      <td>pop</td>\n",
       "      <td>NaN</td>\n",
       "      <td>NaN</td>\n",
       "      <td>...</td>\n",
       "      <td>NaN</td>\n",
       "      <td>NaN</td>\n",
       "      <td>NaN</td>\n",
       "      <td>NaN</td>\n",
       "      <td>NaN</td>\n",
       "      <td>NaN</td>\n",
       "      <td>['canadian pop', ' canadian contemporary r&amp;b',...</td>\n",
       "      <td>2017</td>\n",
       "      <td>1</td>\n",
       "      <td>1</td>\n",
       "    </tr>\n",
       "    <tr>\n",
       "      <th>1</th>\n",
       "      <td>2</td>\n",
       "      <td>Closer</td>\n",
       "      <td>The Chainsmokers</td>\n",
       "      <td>3015525</td>\n",
       "      <td>2017-01-01</td>\n",
       "      <td>pop</td>\n",
       "      <td>pop dance</td>\n",
       "      <td>tropical house</td>\n",
       "      <td>edm</td>\n",
       "      <td>electropop</td>\n",
       "      <td>...</td>\n",
       "      <td>NaN</td>\n",
       "      <td>NaN</td>\n",
       "      <td>NaN</td>\n",
       "      <td>NaN</td>\n",
       "      <td>NaN</td>\n",
       "      <td>NaN</td>\n",
       "      <td>['pop', ' pop dance', ' tropical house', ' edm...</td>\n",
       "      <td>2017</td>\n",
       "      <td>1</td>\n",
       "      <td>1</td>\n",
       "    </tr>\n",
       "    <tr>\n",
       "      <th>2</th>\n",
       "      <td>3</td>\n",
       "      <td>Let Me Love You</td>\n",
       "      <td>DJ Snake</td>\n",
       "      <td>2545384</td>\n",
       "      <td>2017-01-01</td>\n",
       "      <td>pop</td>\n",
       "      <td>electronic trap</td>\n",
       "      <td>dance pop</td>\n",
       "      <td>edm</td>\n",
       "      <td>pop dance</td>\n",
       "      <td>...</td>\n",
       "      <td>NaN</td>\n",
       "      <td>NaN</td>\n",
       "      <td>NaN</td>\n",
       "      <td>NaN</td>\n",
       "      <td>NaN</td>\n",
       "      <td>NaN</td>\n",
       "      <td>['pop', ' electronic trap', ' dance pop', ' ed...</td>\n",
       "      <td>2017</td>\n",
       "      <td>1</td>\n",
       "      <td>1</td>\n",
       "    </tr>\n",
       "    <tr>\n",
       "      <th>3</th>\n",
       "      <td>4</td>\n",
       "      <td>Rockabye (feat. Sean Paul &amp; Anne-Marie)</td>\n",
       "      <td>Clean Bandit</td>\n",
       "      <td>2356604</td>\n",
       "      <td>2017-01-01</td>\n",
       "      <td>pop</td>\n",
       "      <td>uk dance</td>\n",
       "      <td>dance pop</td>\n",
       "      <td>uk funky</td>\n",
       "      <td>tropical house</td>\n",
       "      <td>...</td>\n",
       "      <td>NaN</td>\n",
       "      <td>NaN</td>\n",
       "      <td>NaN</td>\n",
       "      <td>NaN</td>\n",
       "      <td>NaN</td>\n",
       "      <td>NaN</td>\n",
       "      <td>['pop', ' uk dance', ' dance pop', ' uk funky'...</td>\n",
       "      <td>2017</td>\n",
       "      <td>1</td>\n",
       "      <td>1</td>\n",
       "    </tr>\n",
       "    <tr>\n",
       "      <th>4</th>\n",
       "      <td>5</td>\n",
       "      <td>One Dance</td>\n",
       "      <td>Drake</td>\n",
       "      <td>2259887</td>\n",
       "      <td>2017-01-01</td>\n",
       "      <td>toronto rap</td>\n",
       "      <td>canadian pop</td>\n",
       "      <td>canadian hip hop</td>\n",
       "      <td>rap</td>\n",
       "      <td>pop rap</td>\n",
       "      <td>...</td>\n",
       "      <td>NaN</td>\n",
       "      <td>NaN</td>\n",
       "      <td>NaN</td>\n",
       "      <td>NaN</td>\n",
       "      <td>NaN</td>\n",
       "      <td>NaN</td>\n",
       "      <td>['toronto rap', ' canadian pop', ' canadian hi...</td>\n",
       "      <td>2017</td>\n",
       "      <td>1</td>\n",
       "      <td>1</td>\n",
       "    </tr>\n",
       "    <tr>\n",
       "      <th>...</th>\n",
       "      <td>...</td>\n",
       "      <td>...</td>\n",
       "      <td>...</td>\n",
       "      <td>...</td>\n",
       "      <td>...</td>\n",
       "      <td>...</td>\n",
       "      <td>...</td>\n",
       "      <td>...</td>\n",
       "      <td>...</td>\n",
       "      <td>...</td>\n",
       "      <td>...</td>\n",
       "      <td>...</td>\n",
       "      <td>...</td>\n",
       "      <td>...</td>\n",
       "      <td>...</td>\n",
       "      <td>...</td>\n",
       "      <td>...</td>\n",
       "      <td>...</td>\n",
       "      <td>...</td>\n",
       "      <td>...</td>\n",
       "      <td>...</td>\n",
       "    </tr>\n",
       "    <tr>\n",
       "      <th>320635</th>\n",
       "      <td>196</td>\n",
       "      <td>Best Friend (feat. Doja Cat)</td>\n",
       "      <td>Saweetie</td>\n",
       "      <td>790257</td>\n",
       "      <td>2021-07-17</td>\n",
       "      <td>trap queen</td>\n",
       "      <td>pop</td>\n",
       "      <td>pop rap</td>\n",
       "      <td>cali rap</td>\n",
       "      <td>dance pop</td>\n",
       "      <td>...</td>\n",
       "      <td>NaN</td>\n",
       "      <td>NaN</td>\n",
       "      <td>NaN</td>\n",
       "      <td>NaN</td>\n",
       "      <td>NaN</td>\n",
       "      <td>NaN</td>\n",
       "      <td>['trap queen', ' pop', ' pop rap', ' cali rap'...</td>\n",
       "      <td>2021</td>\n",
       "      <td>7</td>\n",
       "      <td>17</td>\n",
       "    </tr>\n",
       "    <tr>\n",
       "      <th>320636</th>\n",
       "      <td>197</td>\n",
       "      <td>Wonderwall - Remastered</td>\n",
       "      <td>Oasis</td>\n",
       "      <td>789099</td>\n",
       "      <td>2021-07-17</td>\n",
       "      <td>madchester</td>\n",
       "      <td>permanent wave</td>\n",
       "      <td>beatlesque</td>\n",
       "      <td>britpop</td>\n",
       "      <td>rock</td>\n",
       "      <td>...</td>\n",
       "      <td>NaN</td>\n",
       "      <td>NaN</td>\n",
       "      <td>NaN</td>\n",
       "      <td>NaN</td>\n",
       "      <td>NaN</td>\n",
       "      <td>NaN</td>\n",
       "      <td>['madchester', ' permanent wave', ' beatlesque...</td>\n",
       "      <td>2021</td>\n",
       "      <td>7</td>\n",
       "      <td>17</td>\n",
       "    </tr>\n",
       "    <tr>\n",
       "      <th>320637</th>\n",
       "      <td>198</td>\n",
       "      <td>MI FAI IMPAZZIRE</td>\n",
       "      <td>BLANCO</td>\n",
       "      <td>788966</td>\n",
       "      <td>2021-07-17</td>\n",
       "      <td>italian pop</td>\n",
       "      <td>italian hip hop</td>\n",
       "      <td>NaN</td>\n",
       "      <td>NaN</td>\n",
       "      <td>NaN</td>\n",
       "      <td>...</td>\n",
       "      <td>NaN</td>\n",
       "      <td>NaN</td>\n",
       "      <td>NaN</td>\n",
       "      <td>NaN</td>\n",
       "      <td>NaN</td>\n",
       "      <td>NaN</td>\n",
       "      <td>['italian pop', ' italian hip hop']</td>\n",
       "      <td>2021</td>\n",
       "      <td>7</td>\n",
       "      <td>17</td>\n",
       "    </tr>\n",
       "    <tr>\n",
       "      <th>320638</th>\n",
       "      <td>199</td>\n",
       "      <td>Adore You</td>\n",
       "      <td>Harry Styles</td>\n",
       "      <td>788033</td>\n",
       "      <td>2021-07-17</td>\n",
       "      <td>pop</td>\n",
       "      <td>post-teen pop</td>\n",
       "      <td>NaN</td>\n",
       "      <td>NaN</td>\n",
       "      <td>NaN</td>\n",
       "      <td>...</td>\n",
       "      <td>NaN</td>\n",
       "      <td>NaN</td>\n",
       "      <td>NaN</td>\n",
       "      <td>NaN</td>\n",
       "      <td>NaN</td>\n",
       "      <td>NaN</td>\n",
       "      <td>['pop', ' post-teen pop']</td>\n",
       "      <td>2021</td>\n",
       "      <td>7</td>\n",
       "      <td>17</td>\n",
       "    </tr>\n",
       "    <tr>\n",
       "      <th>320639</th>\n",
       "      <td>200</td>\n",
       "      <td>Follow You</td>\n",
       "      <td>Imagine Dragons</td>\n",
       "      <td>785417</td>\n",
       "      <td>2021-07-17</td>\n",
       "      <td>modern rock</td>\n",
       "      <td>pop</td>\n",
       "      <td>rock</td>\n",
       "      <td>NaN</td>\n",
       "      <td>NaN</td>\n",
       "      <td>...</td>\n",
       "      <td>NaN</td>\n",
       "      <td>NaN</td>\n",
       "      <td>NaN</td>\n",
       "      <td>NaN</td>\n",
       "      <td>NaN</td>\n",
       "      <td>NaN</td>\n",
       "      <td>['modern rock', ' pop', ' rock']</td>\n",
       "      <td>2021</td>\n",
       "      <td>7</td>\n",
       "      <td>17</td>\n",
       "    </tr>\n",
       "  </tbody>\n",
       "</table>\n",
       "<p>320640 rows × 25 columns</p>\n",
       "</div>"
      ],
      "text/plain": [
       "        Ranking                                    Track            Artist  \\\n",
       "0             1                                  Starboy        The Weeknd   \n",
       "1             2                                   Closer  The Chainsmokers   \n",
       "2             3                          Let Me Love You          DJ Snake   \n",
       "3             4  Rockabye (feat. Sean Paul & Anne-Marie)      Clean Bandit   \n",
       "4             5                                One Dance             Drake   \n",
       "...         ...                                      ...               ...   \n",
       "320635      196             Best Friend (feat. Doja Cat)          Saweetie   \n",
       "320636      197                  Wonderwall - Remastered             Oasis   \n",
       "320637      198                         MI FAI IMPAZZIRE            BLANCO   \n",
       "320638      199                                Adore You      Harry Styles   \n",
       "320639      200                               Follow You   Imagine Dragons   \n",
       "\n",
       "        Streams        Date         Genre                     Genre 1  \\\n",
       "0       3135625  2017-01-01  canadian pop   canadian contemporary r&b   \n",
       "1       3015525  2017-01-01           pop                   pop dance   \n",
       "2       2545384  2017-01-01           pop             electronic trap   \n",
       "3       2356604  2017-01-01           pop                    uk dance   \n",
       "4       2259887  2017-01-01   toronto rap                canadian pop   \n",
       "...         ...         ...           ...                         ...   \n",
       "320635   790257  2021-07-17    trap queen                         pop   \n",
       "320636   789099  2021-07-17    madchester              permanent wave   \n",
       "320637   788966  2021-07-17   italian pop             italian hip hop   \n",
       "320638   788033  2021-07-17           pop               post-teen pop   \n",
       "320639   785417  2021-07-17   modern rock                         pop   \n",
       "\n",
       "                  Genre 2    Genre 3          Genre 4  ... Genre 10 Genre 11  \\\n",
       "0                     pop        NaN              NaN  ...      NaN      NaN   \n",
       "1          tropical house        edm       electropop  ...      NaN      NaN   \n",
       "2               dance pop        edm        pop dance  ...      NaN      NaN   \n",
       "3               dance pop   uk funky   tropical house  ...      NaN      NaN   \n",
       "4        canadian hip hop        rap          pop rap  ...      NaN      NaN   \n",
       "...                   ...        ...              ...  ...      ...      ...   \n",
       "320635            pop rap   cali rap        dance pop  ...      NaN      NaN   \n",
       "320636         beatlesque    britpop             rock  ...      NaN      NaN   \n",
       "320637                NaN        NaN              NaN  ...      NaN      NaN   \n",
       "320638                NaN        NaN              NaN  ...      NaN      NaN   \n",
       "320639               rock        NaN              NaN  ...      NaN      NaN   \n",
       "\n",
       "       Genre 12 Genre 13 Genre 14 Genre 15  \\\n",
       "0           NaN      NaN      NaN      NaN   \n",
       "1           NaN      NaN      NaN      NaN   \n",
       "2           NaN      NaN      NaN      NaN   \n",
       "3           NaN      NaN      NaN      NaN   \n",
       "4           NaN      NaN      NaN      NaN   \n",
       "...         ...      ...      ...      ...   \n",
       "320635      NaN      NaN      NaN      NaN   \n",
       "320636      NaN      NaN      NaN      NaN   \n",
       "320637      NaN      NaN      NaN      NaN   \n",
       "320638      NaN      NaN      NaN      NaN   \n",
       "320639      NaN      NaN      NaN      NaN   \n",
       "\n",
       "                                                AllGenres  Year Month Day  \n",
       "0       ['canadian pop', ' canadian contemporary r&b',...  2017     1   1  \n",
       "1       ['pop', ' pop dance', ' tropical house', ' edm...  2017     1   1  \n",
       "2       ['pop', ' electronic trap', ' dance pop', ' ed...  2017     1   1  \n",
       "3       ['pop', ' uk dance', ' dance pop', ' uk funky'...  2017     1   1  \n",
       "4       ['toronto rap', ' canadian pop', ' canadian hi...  2017     1   1  \n",
       "...                                                   ...   ...   ...  ..  \n",
       "320635  ['trap queen', ' pop', ' pop rap', ' cali rap'...  2021     7  17  \n",
       "320636  ['madchester', ' permanent wave', ' beatlesque...  2021     7  17  \n",
       "320637                ['italian pop', ' italian hip hop']  2021     7  17  \n",
       "320638                          ['pop', ' post-teen pop']  2021     7  17  \n",
       "320639                   ['modern rock', ' pop', ' rock']  2021     7  17  \n",
       "\n",
       "[320640 rows x 25 columns]"
      ]
     },
     "execution_count": 81,
     "metadata": {},
     "output_type": "execute_result"
    }
   ],
   "source": [
    "data_sp"
   ]
  },
  {
   "cell_type": "code",
   "execution_count": 82,
   "id": "556b307f",
   "metadata": {},
   "outputs": [],
   "source": [
    "data_sp['AllGenres'] = data_sp['AllGenres'].apply(lambda x : x.strip(\"[]\").split(','))"
   ]
  },
  {
   "cell_type": "code",
   "execution_count": 83,
   "id": "9e4d9475",
   "metadata": {},
   "outputs": [
    {
     "data": {
      "text/plain": [
       "0                                       [None, None, None]\n",
       "1                     [None, None, None, None, None, None]\n",
       "2                     [None, None, None, None, None, None]\n",
       "3         [None, None, None, None, None, None, None, None]\n",
       "4                     [None, None, None, None, None, None]\n",
       "                                ...                       \n",
       "320635                      [None, None, None, None, None]\n",
       "320636                      [None, None, None, None, None]\n",
       "320637                                        [None, None]\n",
       "320638                                        [None, None]\n",
       "320639                                  [None, None, None]\n",
       "Name: AllGenres, Length: 320640, dtype: object"
      ]
     },
     "execution_count": 83,
     "metadata": {},
     "output_type": "execute_result"
    }
   ],
   "source": [
    "genres_list = []\n",
    "data_sp['AllGenres'].apply(lambda x : [genres_list.append(y) for y in x])"
   ]
  },
  {
   "cell_type": "code",
   "execution_count": 84,
   "id": "9a43d0ac",
   "metadata": {},
   "outputs": [],
   "source": [
    "analysis_list= ['pop','r&b','dance','house','edm','electro','trap','rap','funk','hip hop','rock','latin','talent show',\n",
    "              'moombahton','aussietronica','boy band','reggaeton','girl group','hyphy','soul','contemporary','urban','flow',\n",
    "              'champeta','vallenato','wave','alt z','downtempo','indie','cubaton','new french touch','neo mellow','big room',\n",
    "             'motown','quiet storm','dancehall','future bass','brostep','complextro','metropopolis','swing','country']"
   ]
  },
  {
   "cell_type": "code",
   "execution_count": 85,
   "id": "ea050acc",
   "metadata": {},
   "outputs": [],
   "source": [
    "analysis_dict = {}\n",
    "for x in analysis_list:\n",
    "    analysis_dict[x] = 0"
   ]
  },
  {
   "cell_type": "code",
   "execution_count": 86,
   "id": "0138a5d3",
   "metadata": {},
   "outputs": [],
   "source": [
    "for x in analysis_list:\n",
    "    for genre in genres_list:\n",
    "        if x in genre:\n",
    "            analysis_dict[x] +=1"
   ]
  },
  {
   "cell_type": "code",
   "execution_count": 87,
   "id": "83637d1f",
   "metadata": {},
   "outputs": [
    {
     "data": {
      "text/plain": [
       "{'pop': 555153,\n",
       " 'r&b': 13399,\n",
       " 'dance': 136048,\n",
       " 'house': 58123,\n",
       " 'edm': 39879,\n",
       " 'electro': 48009,\n",
       " 'trap': 80937,\n",
       " 'rap': 276937,\n",
       " 'funk': 4877,\n",
       " 'hip hop': 105455,\n",
       " 'rock': 47266,\n",
       " 'latin': 106248,\n",
       " 'talent show': 3148,\n",
       " 'moombahton': 1265,\n",
       " 'aussietronica': 285,\n",
       " 'boy band': 3267,\n",
       " 'reggaeton': 61674,\n",
       " 'girl group': 2151,\n",
       " 'hyphy': 91,\n",
       " 'soul': 4427,\n",
       " 'contemporary': 8269,\n",
       " 'urban': 2406,\n",
       " 'flow': 6764,\n",
       " 'champeta': 491,\n",
       " 'vallenato': 386,\n",
       " 'wave': 3302,\n",
       " 'alt z': 5280,\n",
       " 'downtempo': 243,\n",
       " 'indie': 11291,\n",
       " 'cubaton': 350,\n",
       " 'new french touch': 592,\n",
       " 'neo mellow': 1341,\n",
       " 'big room': 1740,\n",
       " 'motown': 228,\n",
       " 'quiet storm': 56,\n",
       " 'dancehall': 570,\n",
       " 'future bass': 52,\n",
       " 'brostep': 3255,\n",
       " 'complextro': 1398,\n",
       " 'metropopolis': 1134,\n",
       " 'swing': 501,\n",
       " 'country': 3287}"
      ]
     },
     "execution_count": 87,
     "metadata": {},
     "output_type": "execute_result"
    }
   ],
   "source": [
    "analysis_dict"
   ]
  },
  {
   "cell_type": "code",
   "execution_count": 88,
   "id": "2eabc69a",
   "metadata": {},
   "outputs": [],
   "source": [
    "for each in analysis_list:\n",
    "    data_sp[each] = data_sp['AllGenres'].apply(lambda x : [1 for y in x if each in y])"
   ]
  },
  {
   "cell_type": "code",
   "execution_count": 89,
   "id": "aa7bdede",
   "metadata": {},
   "outputs": [],
   "source": [
    "for each in analysis_list:\n",
    "    data_sp[each] = data_sp[each].apply(lambda x : sum(x))"
   ]
  },
  {
   "cell_type": "code",
   "execution_count": 215,
   "id": "8572e583",
   "metadata": {},
   "outputs": [
    {
     "data": {
      "image/png": "[encoded data removed]",
      "text/plain": [
       "<Figure size 1440x720 with 1 Axes>"
      ]
     },
     "metadata": {
      "needs_background": "light"
     },
     "output_type": "display_data"
    }
   ],
   "source": [
    "lists = sorted(analysis_dict.items(), key=lambda kv: kv[1], reverse=True)\n",
    "\n",
    "x, y = zip(*lists)\n",
    "\n",
    "plt.figure(figsize=(20,10))\n",
    "plt.bar(x[0:11], y[0:11])\n",
    "plt.show()"
   ]
  },
  {
   "cell_type": "code",
   "execution_count": 98,
   "id": "61e4cd95",
   "metadata": {},
   "outputs": [],
   "source": [
    "top_ten = ['pop','rap','dance','latin','hip hop','trap','reggaeton','house','electro','rock','edm']\n",
    "top_five = ['pop','rap','dance','latin','hip hop']"
   ]
  },
  {
   "cell_type": "code",
   "execution_count": 99,
   "id": "52506e33",
   "metadata": {},
   "outputs": [],
   "source": [
    "data_genrepm = data_sp[data_sp['Month']<=7]"
   ]
  },
  {
   "cell_type": "code",
   "execution_count": 255,
   "id": "a528bc23",
   "metadata": {},
   "outputs": [
    {
     "data": {
      "text/plain": [
       "<AxesSubplot:xlabel='Year'>"
      ]
     },
     "execution_count": 255,
     "metadata": {},
     "output_type": "execute_result"
    },
    {
     "data": {
      "image/png": "[encoded data removed]",
      "text/plain": [
       "<Figure size 1080x360 with 1 Axes>"
      ]
     },
     "metadata": {
      "needs_background": "light"
     },
     "output_type": "display_data"
    }
   ],
   "source": [
    "data_genrepm.groupby(['Year']).sum().plot.area(figsize=(15,5),y=top_ten,colormap=\"Pastel1\")"
   ]
  },
  {
   "cell_type": "code",
   "execution_count": 247,
   "id": "a420bec7",
   "metadata": {},
   "outputs": [
    {
     "data": {
      "text/plain": [
       "<AxesSubplot:xlabel='Year'>"
      ]
     },
     "execution_count": 247,
     "metadata": {},
     "output_type": "execute_result"
    },
    {
     "data": {
      "image/png": "[encoded data removed]",
      "text/plain": [
       "<Figure size 432x288 with 1 Axes>"
      ]
     },
     "metadata": {
      "needs_background": "light"
     },
     "output_type": "display_data"
    }
   ],
   "source": [
    "data_genrepm.groupby('Year').sum()['Streams'].plot.bar(color='g')"
   ]
  },
  {
   "cell_type": "code",
   "execution_count": 140,
   "id": "30f72e7e",
   "metadata": {},
   "outputs": [],
   "source": [
    "data_sum = data_genrepm.groupby('Year').sum()['Streams']"
   ]
  },
  {
   "cell_type": "code",
   "execution_count": 150,
   "id": "f16d2a19",
   "metadata": {},
   "outputs": [
    {
     "data": {
      "text/plain": [
       "Year\n",
       "2017    43299574991\n",
       "2018    48007090478\n",
       "2019    51649782318\n",
       "2020    52908111365\n",
       "2021    39566973842\n",
       "Name: Streams, dtype: int64"
      ]
     },
     "execution_count": 150,
     "metadata": {},
     "output_type": "execute_result"
    }
   ],
   "source": [
    "data_sum"
   ]
  },
  {
   "cell_type": "code",
   "execution_count": 180,
   "id": "49326583",
   "metadata": {},
   "outputs": [
    {
     "data": {
      "text/plain": [
       "<AxesSubplot:ylabel='Sum'>"
      ]
     },
     "execution_count": 180,
     "metadata": {},
     "output_type": "execute_result"
    },
    {
     "data": {
      "image/png": "[encoded data removed]",
      "text/plain": [
       "<Figure size 1080x360 with 1 Axes>"
      ]
     },
     "metadata": {},
     "output_type": "display_data"
    }
   ],
   "source": [
    "data = {'Years': ['2018-2019', '2020-2021'],\n",
    "        'Sum': [data_sum[2018]+data_sum[2019],data_sum[2020]+data_sum[2021]]}\n",
    "\n",
    "data = pd.DataFrame(data)\n",
    "data.plot(kind=\"pie\", y='Sum',labels=['2018-2019', '2020-2021'],figsize=(15,5))"
   ]
  },
  {
   "cell_type": "code",
   "execution_count": null,
   "id": "369a830e",
   "metadata": {},
   "outputs": [],
   "source": [
    "data_genpy = data_sp[data_sp['Year'] <= 2020]"
   ]
  },
  {
   "cell_type": "code",
   "execution_count": null,
   "id": "8eaa2f8e",
   "metadata": {},
   "outputs": [],
   "source": [
    "data_genpy.groupby('Month').sum()['Streams'].plot.bar(rot=45)"
   ]
  },
  {
   "cell_type": "code",
   "execution_count": 104,
   "id": "0f6da04b",
   "metadata": {},
   "outputs": [],
   "source": [
    "year_data = data_sp.groupby(['Year','Month']).sum()['Streams']"
   ]
  },
  {
   "cell_type": "code",
   "execution_count": 195,
   "id": "db35b199",
   "metadata": {},
   "outputs": [
    {
     "data": {
      "text/plain": [
       "<AxesSubplot:xlabel='Month'>"
      ]
     },
     "execution_count": 195,
     "metadata": {},
     "output_type": "execute_result"
    },
    {
     "data": {
      "image/png": "[encoded data removed]",
      "text/plain": [
       "<Figure size 432x288 with 1 Axes>"
      ]
     },
     "metadata": {
      "needs_background": "light"
     },
     "output_type": "display_data"
    }
   ],
   "source": [
    "year_data.loc[2017].plot.area()"
   ]
  },
  {
   "cell_type": "code",
   "execution_count": 194,
   "id": "6e744224",
   "metadata": {},
   "outputs": [
    {
     "data": {
      "text/plain": [
       "<AxesSubplot:xlabel='Month'>"
      ]
     },
     "execution_count": 194,
     "metadata": {},
     "output_type": "execute_result"
    },
    {
     "data": {
      "image/png": "[encoded data removed]",
      "text/plain": [
       "<Figure size 432x288 with 1 Axes>"
      ]
     },
     "metadata": {
      "needs_background": "light"
     },
     "output_type": "display_data"
    }
   ],
   "source": [
    "year_data.loc[2018].plot.area()"
   ]
  },
  {
   "cell_type": "code",
   "execution_count": 193,
   "id": "e1f5347a",
   "metadata": {},
   "outputs": [
    {
     "data": {
      "text/plain": [
       "<AxesSubplot:xlabel='Month'>"
      ]
     },
     "execution_count": 193,
     "metadata": {},
     "output_type": "execute_result"
    },
    {
     "data": {
      "image/png": "[encoded data removed]",
      "text/plain": [
       "<Figure size 432x288 with 1 Axes>"
      ]
     },
     "metadata": {
      "needs_background": "light"
     },
     "output_type": "display_data"
    }
   ],
   "source": [
    "year_data.loc[2019].plot.area()"
   ]
  },
  {
   "cell_type": "code",
   "execution_count": 187,
   "id": "6463a05f",
   "metadata": {},
   "outputs": [
    {
     "data": {
      "text/plain": [
       "<AxesSubplot:xlabel='Month'>"
      ]
     },
     "execution_count": 187,
     "metadata": {},
     "output_type": "execute_result"
    },
    {
     "data": {
      "image/png": "[encoded data removed]",
      "text/plain": [
       "<Figure size 432x288 with 1 Axes>"
      ]
     },
     "metadata": {
      "needs_background": "light"
     },
     "output_type": "display_data"
    }
   ],
   "source": [
    "year_data.loc[2020].plot.area()"
   ]
  },
  {
   "cell_type": "code",
   "execution_count": 219,
   "id": "b0e91b5f",
   "metadata": {},
   "outputs": [
    {
     "data": {
      "text/plain": [
       "<AxesSubplot:xlabel='Artist'>"
      ]
     },
     "execution_count": 219,
     "metadata": {},
     "output_type": "execute_result"
    },
    {
     "data": {
      "image/png": "[encoded data removed]",
      "text/plain": [
       "<Figure size 432x288 with 1 Axes>"
      ]
     },
     "metadata": {
      "needs_background": "light"
     },
     "output_type": "display_data"
    }
   ],
   "source": [
    "data_sp.groupby(['Artist']).sum().sort_values('Streams',ascending=0).head(10).plot.line(y='Streams')"
   ]
  },
  {
   "cell_type": "code",
   "execution_count": 252,
   "id": "fe537d2f",
   "metadata": {},
   "outputs": [
    {
     "data": {
      "text/plain": [
       "<AxesSubplot:xlabel='Artist'>"
      ]
     },
     "execution_count": 252,
     "metadata": {},
     "output_type": "execute_result"
    },
    {
     "data": {
      "image/png": "[encoded data removed]",
      "text/plain": [
       "<Figure size 1080x360 with 1 Axes>"
      ]
     },
     "metadata": {
      "needs_background": "light"
     },
     "output_type": "display_data"
    }
   ],
   "source": [
    "data_sp.groupby(['Artist']).sum().sort_values('Streams').tail(10).plot.bar(figsize=(15,5),y=top_five,rot=45,colormap='Pastel2')"
   ]
  },
  {
   "cell_type": "code",
   "execution_count": null,
   "id": "0650c48f",
   "metadata": {},
   "outputs": [],
   "source": [
    "# month_dict = {1:'Jan',2:'Feb',3:'Mar',4:'Apr',5:'May',6:'Jun',7:'Jul',8:'Aug',9:'Sep',10:'Oct',11:'Nov',12:'Dec'}\n",
    "# data_sp = data_sp.replace({'Month': month_dict})\n",
    "# data_sp['Month'].unique()"
   ]
  }
 ],
 "metadata": {
  "kernelspec": {
   "display_name": "Python 3 (ipykernel)",
   "language": "python",
   "name": "python3"
  },
  "language_info": {
   "codemirror_mode": {
    "name": "ipython",
    "version": 3
   },
   "file_extension": ".py",
   "mimetype": "text/x-python",
   "name": "python",
   "nbconvert_exporter": "python",
   "pygments_lexer": "ipython3",
   "version": "3.9.7"
  }
 },
 "nbformat": 4,
 "nbformat_minor": 5
}
